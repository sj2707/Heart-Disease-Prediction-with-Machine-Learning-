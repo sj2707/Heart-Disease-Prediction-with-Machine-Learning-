{
 "cells": [
  {
   "cell_type": "code",
   "execution_count": 1,
   "id": "5891f4e9",
   "metadata": {},
   "outputs": [],
   "source": [
    "import pandas as pd\n",
    "import numpy as nm\n",
    "import seaborn as sns\n",
    "import matplotlib.pyplot as plt\n",
    "from sklearn import metrics\n",
    "from sklearn import tree\n",
    "from sklearn.preprocessing import LabelEncoder\n",
    "from sklearn.model_selection import train_test_split\n",
    "import sklearn as sk\n",
    "import sklearn.datasets\n",
    "from sklearn.model_selection import train_test_split\n"
   ]
  },
  {
   "cell_type": "code",
   "execution_count": 2,
   "id": "838541ae",
   "metadata": {},
   "outputs": [],
   "source": [
    "datasetn=pd.read_csv(r\"C:\\FINAL YEAR PROJECT\\dataset\\new_data.csv\")"
   ]
  },
  {
   "cell_type": "code",
   "execution_count": 3,
   "id": "a907dc0f",
   "metadata": {},
   "outputs": [],
   "source": [
    "numerics=LabelEncoder()"
   ]
  },
  {
   "cell_type": "code",
   "execution_count": 4,
   "id": "6a313a0b",
   "metadata": {},
   "outputs": [],
   "source": [
    "dataset['Sex_n']=numerics.fit_transform(dataset['Sex'])\n",
    "dataset['ChestPainType_n']=numerics.fit_transform(dataset['ChestPainType'])\n",
    "dataset['RestingECG_n']=numerics.fit_transform(dataset['RestingECG'])\n",
    "dataset['ExerciseAngina_n']=numerics.fit_transform(dataset['ExerciseAngina'])\n",
    "dataset['ST_Slope_n']=numerics.fit_transform(dataset['ST_Slope'])"
   ]
  },
  {
   "cell_type": "code",
   "execution_count": 5,
   "id": "24d981e6",
   "metadata": {},
   "outputs": [],
   "source": [
    "datasetn=dataset.drop(['Sex','ChestPainType','RestingECG','ExerciseAngina','ST_Slope'],axis='columns')\n"
   ]
  },
  {
   "cell_type": "code",
   "execution_count": 6,
   "id": "a179489b",
   "metadata": {},
   "outputs": [],
   "source": [
    "datasetn=datasetn.iloc[:,1:]"
   ]
  },
  {
   "cell_type": "code",
   "execution_count": 7,
   "id": "7a99ec25",
   "metadata": {},
   "outputs": [
    {
     "data": {
      "text/html": [
       "<div>\n",
       "<style scoped>\n",
       "    .dataframe tbody tr th:only-of-type {\n",
       "        vertical-align: middle;\n",
       "    }\n",
       "\n",
       "    .dataframe tbody tr th {\n",
       "        vertical-align: top;\n",
       "    }\n",
       "\n",
       "    .dataframe thead th {\n",
       "        text-align: right;\n",
       "    }\n",
       "</style>\n",
       "<table border=\"1\" class=\"dataframe\">\n",
       "  <thead>\n",
       "    <tr style=\"text-align: right;\">\n",
       "      <th></th>\n",
       "      <th>Age</th>\n",
       "      <th>RestingBP</th>\n",
       "      <th>Cholesterol</th>\n",
       "      <th>FastingBS</th>\n",
       "      <th>MaxHR</th>\n",
       "      <th>Oldpeak</th>\n",
       "      <th>HeartDisease</th>\n",
       "      <th>Sex_n</th>\n",
       "      <th>ChestPainType_n</th>\n",
       "      <th>RestingECG_n</th>\n",
       "      <th>ExerciseAngina_n</th>\n",
       "      <th>ST_Slope_n</th>\n",
       "    </tr>\n",
       "  </thead>\n",
       "  <tbody>\n",
       "    <tr>\n",
       "      <th>0</th>\n",
       "      <td>40</td>\n",
       "      <td>140</td>\n",
       "      <td>289.0</td>\n",
       "      <td>0</td>\n",
       "      <td>172</td>\n",
       "      <td>0.0</td>\n",
       "      <td>0</td>\n",
       "      <td>1</td>\n",
       "      <td>1</td>\n",
       "      <td>1</td>\n",
       "      <td>0</td>\n",
       "      <td>2</td>\n",
       "    </tr>\n",
       "    <tr>\n",
       "      <th>1</th>\n",
       "      <td>49</td>\n",
       "      <td>160</td>\n",
       "      <td>180.0</td>\n",
       "      <td>0</td>\n",
       "      <td>156</td>\n",
       "      <td>1.0</td>\n",
       "      <td>1</td>\n",
       "      <td>0</td>\n",
       "      <td>2</td>\n",
       "      <td>1</td>\n",
       "      <td>0</td>\n",
       "      <td>1</td>\n",
       "    </tr>\n",
       "    <tr>\n",
       "      <th>2</th>\n",
       "      <td>37</td>\n",
       "      <td>130</td>\n",
       "      <td>283.0</td>\n",
       "      <td>0</td>\n",
       "      <td>98</td>\n",
       "      <td>0.0</td>\n",
       "      <td>0</td>\n",
       "      <td>1</td>\n",
       "      <td>1</td>\n",
       "      <td>2</td>\n",
       "      <td>0</td>\n",
       "      <td>2</td>\n",
       "    </tr>\n",
       "    <tr>\n",
       "      <th>3</th>\n",
       "      <td>48</td>\n",
       "      <td>138</td>\n",
       "      <td>214.0</td>\n",
       "      <td>0</td>\n",
       "      <td>108</td>\n",
       "      <td>1.5</td>\n",
       "      <td>1</td>\n",
       "      <td>0</td>\n",
       "      <td>0</td>\n",
       "      <td>1</td>\n",
       "      <td>1</td>\n",
       "      <td>1</td>\n",
       "    </tr>\n",
       "    <tr>\n",
       "      <th>4</th>\n",
       "      <td>54</td>\n",
       "      <td>150</td>\n",
       "      <td>195.0</td>\n",
       "      <td>0</td>\n",
       "      <td>122</td>\n",
       "      <td>0.0</td>\n",
       "      <td>0</td>\n",
       "      <td>1</td>\n",
       "      <td>2</td>\n",
       "      <td>1</td>\n",
       "      <td>0</td>\n",
       "      <td>2</td>\n",
       "    </tr>\n",
       "    <tr>\n",
       "      <th>...</th>\n",
       "      <td>...</td>\n",
       "      <td>...</td>\n",
       "      <td>...</td>\n",
       "      <td>...</td>\n",
       "      <td>...</td>\n",
       "      <td>...</td>\n",
       "      <td>...</td>\n",
       "      <td>...</td>\n",
       "      <td>...</td>\n",
       "      <td>...</td>\n",
       "      <td>...</td>\n",
       "      <td>...</td>\n",
       "    </tr>\n",
       "    <tr>\n",
       "      <th>854</th>\n",
       "      <td>45</td>\n",
       "      <td>110</td>\n",
       "      <td>264.0</td>\n",
       "      <td>0</td>\n",
       "      <td>132</td>\n",
       "      <td>1.2</td>\n",
       "      <td>1</td>\n",
       "      <td>1</td>\n",
       "      <td>3</td>\n",
       "      <td>1</td>\n",
       "      <td>0</td>\n",
       "      <td>1</td>\n",
       "    </tr>\n",
       "    <tr>\n",
       "      <th>855</th>\n",
       "      <td>68</td>\n",
       "      <td>144</td>\n",
       "      <td>193.0</td>\n",
       "      <td>1</td>\n",
       "      <td>141</td>\n",
       "      <td>3.4</td>\n",
       "      <td>1</td>\n",
       "      <td>1</td>\n",
       "      <td>0</td>\n",
       "      <td>1</td>\n",
       "      <td>0</td>\n",
       "      <td>1</td>\n",
       "    </tr>\n",
       "    <tr>\n",
       "      <th>856</th>\n",
       "      <td>57</td>\n",
       "      <td>130</td>\n",
       "      <td>131.0</td>\n",
       "      <td>0</td>\n",
       "      <td>115</td>\n",
       "      <td>1.2</td>\n",
       "      <td>1</td>\n",
       "      <td>1</td>\n",
       "      <td>0</td>\n",
       "      <td>1</td>\n",
       "      <td>1</td>\n",
       "      <td>1</td>\n",
       "    </tr>\n",
       "    <tr>\n",
       "      <th>857</th>\n",
       "      <td>57</td>\n",
       "      <td>130</td>\n",
       "      <td>236.0</td>\n",
       "      <td>0</td>\n",
       "      <td>174</td>\n",
       "      <td>0.0</td>\n",
       "      <td>1</td>\n",
       "      <td>0</td>\n",
       "      <td>1</td>\n",
       "      <td>0</td>\n",
       "      <td>0</td>\n",
       "      <td>1</td>\n",
       "    </tr>\n",
       "    <tr>\n",
       "      <th>858</th>\n",
       "      <td>38</td>\n",
       "      <td>138</td>\n",
       "      <td>175.0</td>\n",
       "      <td>0</td>\n",
       "      <td>173</td>\n",
       "      <td>0.0</td>\n",
       "      <td>0</td>\n",
       "      <td>1</td>\n",
       "      <td>2</td>\n",
       "      <td>1</td>\n",
       "      <td>0</td>\n",
       "      <td>2</td>\n",
       "    </tr>\n",
       "  </tbody>\n",
       "</table>\n",
       "<p>859 rows × 12 columns</p>\n",
       "</div>"
      ],
      "text/plain": [
       "     Age  RestingBP  Cholesterol  FastingBS  MaxHR  Oldpeak  HeartDisease  \\\n",
       "0     40        140        289.0          0    172      0.0             0   \n",
       "1     49        160        180.0          0    156      1.0             1   \n",
       "2     37        130        283.0          0     98      0.0             0   \n",
       "3     48        138        214.0          0    108      1.5             1   \n",
       "4     54        150        195.0          0    122      0.0             0   \n",
       "..   ...        ...          ...        ...    ...      ...           ...   \n",
       "854   45        110        264.0          0    132      1.2             1   \n",
       "855   68        144        193.0          1    141      3.4             1   \n",
       "856   57        130        131.0          0    115      1.2             1   \n",
       "857   57        130        236.0          0    174      0.0             1   \n",
       "858   38        138        175.0          0    173      0.0             0   \n",
       "\n",
       "     Sex_n  ChestPainType_n  RestingECG_n  ExerciseAngina_n  ST_Slope_n  \n",
       "0        1                1             1                 0           2  \n",
       "1        0                2             1                 0           1  \n",
       "2        1                1             2                 0           2  \n",
       "3        0                0             1                 1           1  \n",
       "4        1                2             1                 0           2  \n",
       "..     ...              ...           ...               ...         ...  \n",
       "854      1                3             1                 0           1  \n",
       "855      1                0             1                 0           1  \n",
       "856      1                0             1                 1           1  \n",
       "857      0                1             0                 0           1  \n",
       "858      1                2             1                 0           2  \n",
       "\n",
       "[859 rows x 12 columns]"
      ]
     },
     "execution_count": 7,
     "metadata": {},
     "output_type": "execute_result"
    }
   ],
   "source": [
    "datasetn"
   ]
  },
  {
   "cell_type": "code",
   "execution_count": 8,
   "id": "4a203867",
   "metadata": {},
   "outputs": [],
   "source": [
    "dataframe=pd.DataFrame(datasetn,columns=['Age','RestingBP','Cholesterol','FastingBS','MaxHR','Oldpeak','HeartDisease','Sex_n','ChestPainType_n','RestingECG_n','ExerciseAngina_n','ST_Slope_n'])"
   ]
  },
  {
   "cell_type": "code",
   "execution_count": 9,
   "id": "4c3b4dad",
   "metadata": {},
   "outputs": [
    {
     "data": {
      "text/html": [
       "<div>\n",
       "<style scoped>\n",
       "    .dataframe tbody tr th:only-of-type {\n",
       "        vertical-align: middle;\n",
       "    }\n",
       "\n",
       "    .dataframe tbody tr th {\n",
       "        vertical-align: top;\n",
       "    }\n",
       "\n",
       "    .dataframe thead th {\n",
       "        text-align: right;\n",
       "    }\n",
       "</style>\n",
       "<table border=\"1\" class=\"dataframe\">\n",
       "  <thead>\n",
       "    <tr style=\"text-align: right;\">\n",
       "      <th></th>\n",
       "      <th>Age</th>\n",
       "      <th>RestingBP</th>\n",
       "      <th>Cholesterol</th>\n",
       "      <th>FastingBS</th>\n",
       "      <th>MaxHR</th>\n",
       "      <th>Oldpeak</th>\n",
       "      <th>HeartDisease</th>\n",
       "      <th>Sex_n</th>\n",
       "      <th>ChestPainType_n</th>\n",
       "      <th>RestingECG_n</th>\n",
       "      <th>ExerciseAngina_n</th>\n",
       "      <th>ST_Slope_n</th>\n",
       "    </tr>\n",
       "  </thead>\n",
       "  <tbody>\n",
       "    <tr>\n",
       "      <th>0</th>\n",
       "      <td>40</td>\n",
       "      <td>140</td>\n",
       "      <td>289.0</td>\n",
       "      <td>0</td>\n",
       "      <td>172</td>\n",
       "      <td>0.0</td>\n",
       "      <td>0</td>\n",
       "      <td>1</td>\n",
       "      <td>1</td>\n",
       "      <td>1</td>\n",
       "      <td>0</td>\n",
       "      <td>2</td>\n",
       "    </tr>\n",
       "    <tr>\n",
       "      <th>1</th>\n",
       "      <td>49</td>\n",
       "      <td>160</td>\n",
       "      <td>180.0</td>\n",
       "      <td>0</td>\n",
       "      <td>156</td>\n",
       "      <td>1.0</td>\n",
       "      <td>1</td>\n",
       "      <td>0</td>\n",
       "      <td>2</td>\n",
       "      <td>1</td>\n",
       "      <td>0</td>\n",
       "      <td>1</td>\n",
       "    </tr>\n",
       "    <tr>\n",
       "      <th>2</th>\n",
       "      <td>37</td>\n",
       "      <td>130</td>\n",
       "      <td>283.0</td>\n",
       "      <td>0</td>\n",
       "      <td>98</td>\n",
       "      <td>0.0</td>\n",
       "      <td>0</td>\n",
       "      <td>1</td>\n",
       "      <td>1</td>\n",
       "      <td>2</td>\n",
       "      <td>0</td>\n",
       "      <td>2</td>\n",
       "    </tr>\n",
       "    <tr>\n",
       "      <th>3</th>\n",
       "      <td>48</td>\n",
       "      <td>138</td>\n",
       "      <td>214.0</td>\n",
       "      <td>0</td>\n",
       "      <td>108</td>\n",
       "      <td>1.5</td>\n",
       "      <td>1</td>\n",
       "      <td>0</td>\n",
       "      <td>0</td>\n",
       "      <td>1</td>\n",
       "      <td>1</td>\n",
       "      <td>1</td>\n",
       "    </tr>\n",
       "    <tr>\n",
       "      <th>4</th>\n",
       "      <td>54</td>\n",
       "      <td>150</td>\n",
       "      <td>195.0</td>\n",
       "      <td>0</td>\n",
       "      <td>122</td>\n",
       "      <td>0.0</td>\n",
       "      <td>0</td>\n",
       "      <td>1</td>\n",
       "      <td>2</td>\n",
       "      <td>1</td>\n",
       "      <td>0</td>\n",
       "      <td>2</td>\n",
       "    </tr>\n",
       "  </tbody>\n",
       "</table>\n",
       "</div>"
      ],
      "text/plain": [
       "   Age  RestingBP  Cholesterol  FastingBS  MaxHR  Oldpeak  HeartDisease  \\\n",
       "0   40        140        289.0          0    172      0.0             0   \n",
       "1   49        160        180.0          0    156      1.0             1   \n",
       "2   37        130        283.0          0     98      0.0             0   \n",
       "3   48        138        214.0          0    108      1.5             1   \n",
       "4   54        150        195.0          0    122      0.0             0   \n",
       "\n",
       "   Sex_n  ChestPainType_n  RestingECG_n  ExerciseAngina_n  ST_Slope_n  \n",
       "0      1                1             1                 0           2  \n",
       "1      0                2             1                 0           1  \n",
       "2      1                1             2                 0           2  \n",
       "3      0                0             1                 1           1  \n",
       "4      1                2             1                 0           2  "
      ]
     },
     "execution_count": 9,
     "metadata": {},
     "output_type": "execute_result"
    }
   ],
   "source": [
    "dataframe.head()"
   ]
  },
  {
   "cell_type": "code",
   "execution_count": 10,
   "id": "ce7fd1ed",
   "metadata": {},
   "outputs": [],
   "source": [
    "dataframe['label'] = datasetn.HeartDisease"
   ]
  },
  {
   "cell_type": "code",
   "execution_count": 11,
   "id": "c45b18b8",
   "metadata": {},
   "outputs": [
    {
     "data": {
      "text/html": [
       "<div>\n",
       "<style scoped>\n",
       "    .dataframe tbody tr th:only-of-type {\n",
       "        vertical-align: middle;\n",
       "    }\n",
       "\n",
       "    .dataframe tbody tr th {\n",
       "        vertical-align: top;\n",
       "    }\n",
       "\n",
       "    .dataframe thead th {\n",
       "        text-align: right;\n",
       "    }\n",
       "</style>\n",
       "<table border=\"1\" class=\"dataframe\">\n",
       "  <thead>\n",
       "    <tr style=\"text-align: right;\">\n",
       "      <th></th>\n",
       "      <th>Age</th>\n",
       "      <th>RestingBP</th>\n",
       "      <th>Cholesterol</th>\n",
       "      <th>FastingBS</th>\n",
       "      <th>MaxHR</th>\n",
       "      <th>Oldpeak</th>\n",
       "      <th>HeartDisease</th>\n",
       "      <th>Sex_n</th>\n",
       "      <th>ChestPainType_n</th>\n",
       "      <th>RestingECG_n</th>\n",
       "      <th>ExerciseAngina_n</th>\n",
       "      <th>ST_Slope_n</th>\n",
       "      <th>label</th>\n",
       "    </tr>\n",
       "  </thead>\n",
       "  <tbody>\n",
       "    <tr>\n",
       "      <th>854</th>\n",
       "      <td>45</td>\n",
       "      <td>110</td>\n",
       "      <td>264.0</td>\n",
       "      <td>0</td>\n",
       "      <td>132</td>\n",
       "      <td>1.2</td>\n",
       "      <td>1</td>\n",
       "      <td>1</td>\n",
       "      <td>3</td>\n",
       "      <td>1</td>\n",
       "      <td>0</td>\n",
       "      <td>1</td>\n",
       "      <td>1</td>\n",
       "    </tr>\n",
       "    <tr>\n",
       "      <th>855</th>\n",
       "      <td>68</td>\n",
       "      <td>144</td>\n",
       "      <td>193.0</td>\n",
       "      <td>1</td>\n",
       "      <td>141</td>\n",
       "      <td>3.4</td>\n",
       "      <td>1</td>\n",
       "      <td>1</td>\n",
       "      <td>0</td>\n",
       "      <td>1</td>\n",
       "      <td>0</td>\n",
       "      <td>1</td>\n",
       "      <td>1</td>\n",
       "    </tr>\n",
       "    <tr>\n",
       "      <th>856</th>\n",
       "      <td>57</td>\n",
       "      <td>130</td>\n",
       "      <td>131.0</td>\n",
       "      <td>0</td>\n",
       "      <td>115</td>\n",
       "      <td>1.2</td>\n",
       "      <td>1</td>\n",
       "      <td>1</td>\n",
       "      <td>0</td>\n",
       "      <td>1</td>\n",
       "      <td>1</td>\n",
       "      <td>1</td>\n",
       "      <td>1</td>\n",
       "    </tr>\n",
       "    <tr>\n",
       "      <th>857</th>\n",
       "      <td>57</td>\n",
       "      <td>130</td>\n",
       "      <td>236.0</td>\n",
       "      <td>0</td>\n",
       "      <td>174</td>\n",
       "      <td>0.0</td>\n",
       "      <td>1</td>\n",
       "      <td>0</td>\n",
       "      <td>1</td>\n",
       "      <td>0</td>\n",
       "      <td>0</td>\n",
       "      <td>1</td>\n",
       "      <td>1</td>\n",
       "    </tr>\n",
       "    <tr>\n",
       "      <th>858</th>\n",
       "      <td>38</td>\n",
       "      <td>138</td>\n",
       "      <td>175.0</td>\n",
       "      <td>0</td>\n",
       "      <td>173</td>\n",
       "      <td>0.0</td>\n",
       "      <td>0</td>\n",
       "      <td>1</td>\n",
       "      <td>2</td>\n",
       "      <td>1</td>\n",
       "      <td>0</td>\n",
       "      <td>2</td>\n",
       "      <td>0</td>\n",
       "    </tr>\n",
       "  </tbody>\n",
       "</table>\n",
       "</div>"
      ],
      "text/plain": [
       "     Age  RestingBP  Cholesterol  FastingBS  MaxHR  Oldpeak  HeartDisease  \\\n",
       "854   45        110        264.0          0    132      1.2             1   \n",
       "855   68        144        193.0          1    141      3.4             1   \n",
       "856   57        130        131.0          0    115      1.2             1   \n",
       "857   57        130        236.0          0    174      0.0             1   \n",
       "858   38        138        175.0          0    173      0.0             0   \n",
       "\n",
       "     Sex_n  ChestPainType_n  RestingECG_n  ExerciseAngina_n  ST_Slope_n  label  \n",
       "854      1                3             1                 0           1      1  \n",
       "855      1                0             1                 0           1      1  \n",
       "856      1                0             1                 1           1      1  \n",
       "857      0                1             0                 0           1      1  \n",
       "858      1                2             1                 0           2      0  "
      ]
     },
     "execution_count": 11,
     "metadata": {},
     "output_type": "execute_result"
    }
   ],
   "source": [
    "dataframe.tail()"
   ]
  },
  {
   "cell_type": "code",
   "execution_count": 12,
   "id": "fd5ca4f7",
   "metadata": {},
   "outputs": [
    {
     "name": "stdout",
     "output_type": "stream",
     "text": [
      "<class 'pandas.core.frame.DataFrame'>\n",
      "RangeIndex: 859 entries, 0 to 858\n",
      "Data columns (total 13 columns):\n",
      " #   Column            Non-Null Count  Dtype  \n",
      "---  ------            --------------  -----  \n",
      " 0   Age               859 non-null    int64  \n",
      " 1   RestingBP         859 non-null    int64  \n",
      " 2   Cholesterol       859 non-null    float64\n",
      " 3   FastingBS         859 non-null    int64  \n",
      " 4   MaxHR             859 non-null    int64  \n",
      " 5   Oldpeak           859 non-null    float64\n",
      " 6   HeartDisease      859 non-null    int64  \n",
      " 7   Sex_n             859 non-null    int32  \n",
      " 8   ChestPainType_n   859 non-null    int32  \n",
      " 9   RestingECG_n      859 non-null    int32  \n",
      " 10  ExerciseAngina_n  859 non-null    int32  \n",
      " 11  ST_Slope_n        859 non-null    int32  \n",
      " 12  label             859 non-null    int64  \n",
      "dtypes: float64(2), int32(5), int64(6)\n",
      "memory usage: 70.6 KB\n"
     ]
    }
   ],
   "source": [
    "dataframe.info()"
   ]
  },
  {
   "cell_type": "code",
   "execution_count": 13,
   "id": "f23c2801",
   "metadata": {},
   "outputs": [
    {
     "data": {
      "text/plain": [
       "Age                 0\n",
       "RestingBP           0\n",
       "Cholesterol         0\n",
       "FastingBS           0\n",
       "MaxHR               0\n",
       "Oldpeak             0\n",
       "HeartDisease        0\n",
       "Sex_n               0\n",
       "ChestPainType_n     0\n",
       "RestingECG_n        0\n",
       "ExerciseAngina_n    0\n",
       "ST_Slope_n          0\n",
       "label               0\n",
       "dtype: int64"
      ]
     },
     "execution_count": 13,
     "metadata": {},
     "output_type": "execute_result"
    }
   ],
   "source": [
    "dataframe.isnull().sum()"
   ]
  },
  {
   "cell_type": "markdown",
   "id": "2fb6205c",
   "metadata": {},
   "source": [
    "# distribution of Target Varibale"
   ]
  },
  {
   "cell_type": "code",
   "execution_count": 14,
   "id": "865b8f39",
   "metadata": {},
   "outputs": [
    {
     "data": {
      "text/plain": [
       "1    465\n",
       "0    394\n",
       "Name: label, dtype: int64"
      ]
     },
     "execution_count": 14,
     "metadata": {},
     "output_type": "execute_result"
    }
   ],
   "source": [
    "dataframe['label'].value_counts()"
   ]
  },
  {
   "cell_type": "markdown",
   "id": "92be8c79",
   "metadata": {},
   "source": []
  },
  {
   "cell_type": "code",
   "execution_count": null,
   "id": "585f58b2",
   "metadata": {},
   "outputs": [],
   "source": []
  },
  {
   "cell_type": "markdown",
   "id": "27899c48",
   "metadata": {},
   "source": [
    "# Separating the features and target"
   ]
  },
  {
   "cell_type": "code",
   "execution_count": 16,
   "id": "1d5b55dc",
   "metadata": {},
   "outputs": [],
   "source": [
    "X = dataframe.drop(columns='label', axis=1)\n",
    "Y = dataframe['label']"
   ]
  },
  {
   "cell_type": "code",
   "execution_count": 17,
   "id": "02b1fa2e",
   "metadata": {},
   "outputs": [
    {
     "name": "stdout",
     "output_type": "stream",
     "text": [
      "     Age  RestingBP  Cholesterol  FastingBS  MaxHR  Oldpeak  HeartDisease  \\\n",
      "0     40        140        289.0          0    172      0.0             0   \n",
      "1     49        160        180.0          0    156      1.0             1   \n",
      "2     37        130        283.0          0     98      0.0             0   \n",
      "3     48        138        214.0          0    108      1.5             1   \n",
      "4     54        150        195.0          0    122      0.0             0   \n",
      "..   ...        ...          ...        ...    ...      ...           ...   \n",
      "854   45        110        264.0          0    132      1.2             1   \n",
      "855   68        144        193.0          1    141      3.4             1   \n",
      "856   57        130        131.0          0    115      1.2             1   \n",
      "857   57        130        236.0          0    174      0.0             1   \n",
      "858   38        138        175.0          0    173      0.0             0   \n",
      "\n",
      "     Sex_n  ChestPainType_n  RestingECG_n  ExerciseAngina_n  ST_Slope_n  \n",
      "0        1                1             1                 0           2  \n",
      "1        0                2             1                 0           1  \n",
      "2        1                1             2                 0           2  \n",
      "3        0                0             1                 1           1  \n",
      "4        1                2             1                 0           2  \n",
      "..     ...              ...           ...               ...         ...  \n",
      "854      1                3             1                 0           1  \n",
      "855      1                0             1                 0           1  \n",
      "856      1                0             1                 1           1  \n",
      "857      0                1             0                 0           1  \n",
      "858      1                2             1                 0           2  \n",
      "\n",
      "[859 rows x 12 columns]\n"
     ]
    }
   ],
   "source": [
    "print(X)"
   ]
  },
  {
   "cell_type": "code",
   "execution_count": 18,
   "id": "eae3be97",
   "metadata": {},
   "outputs": [
    {
     "name": "stdout",
     "output_type": "stream",
     "text": [
      "0      0\n",
      "1      1\n",
      "2      0\n",
      "3      1\n",
      "4      0\n",
      "      ..\n",
      "854    1\n",
      "855    1\n",
      "856    1\n",
      "857    1\n",
      "858    0\n",
      "Name: label, Length: 859, dtype: int64\n"
     ]
    }
   ],
   "source": [
    "print(Y)"
   ]
  },
  {
   "cell_type": "markdown",
   "id": "2af4b4ba",
   "metadata": {},
   "source": [
    "# Splitting the data into training data & Testing data"
   ]
  },
  {
   "cell_type": "code",
   "execution_count": 19,
   "id": "f65ecdd4",
   "metadata": {},
   "outputs": [],
   "source": [
    "X_train, X_test, Y_train, Y_test = train_test_split(X, Y, test_size=0.2, random_state=2)"
   ]
  },
  {
   "cell_type": "code",
   "execution_count": 20,
   "id": "6ed225aa",
   "metadata": {},
   "outputs": [
    {
     "name": "stdout",
     "output_type": "stream",
     "text": [
      "(859, 12) (687, 12) (172, 12)\n"
     ]
    }
   ],
   "source": [
    "print(X.shape, X_train.shape, X_test.shape)"
   ]
  },
  {
   "cell_type": "markdown",
   "id": "9eb5208f",
   "metadata": {},
   "source": [
    "# standardize data"
   ]
  },
  {
   "cell_type": "code",
   "execution_count": 21,
   "id": "4c861793",
   "metadata": {},
   "outputs": [],
   "source": [
    "from sklearn.preprocessing import StandardScaler"
   ]
  },
  {
   "cell_type": "code",
   "execution_count": 22,
   "id": "8ab1ce20",
   "metadata": {},
   "outputs": [],
   "source": [
    "scaler = StandardScaler()\n",
    "\n",
    "X_train_std = scaler.fit_transform(X_train)\n",
    "\n",
    "X_test_std = scaler.transform(X_test)"
   ]
  },
  {
   "cell_type": "markdown",
   "id": "c95f1820",
   "metadata": {},
   "source": [
    "# neural network"
   ]
  },
  {
   "cell_type": "code",
   "execution_count": 23,
   "id": "1945598a",
   "metadata": {},
   "outputs": [],
   "source": [
    "# importing tensorflow and Keras\n",
    "import tensorflow as tf \n",
    "tf.random.set_seed(3)\n",
    "from tensorflow import keras"
   ]
  },
  {
   "cell_type": "code",
   "execution_count": 24,
   "id": "74b1548a",
   "metadata": {},
   "outputs": [],
   "source": [
    "# setting up the layers of Neural Network\n",
    "\n",
    "model = keras.Sequential([\n",
    "                          keras.layers.Flatten(input_shape=(12,)),\n",
    "                          keras.layers.Dense(8, activation='relu'),\n",
    "                          keras.layers.Dense(2, activation='sigmoid')\n",
    "])"
   ]
  },
  {
   "cell_type": "code",
   "execution_count": 25,
   "id": "4a6bea48",
   "metadata": {},
   "outputs": [],
   "source": [
    "# compiling the Neural Network\n",
    "\n",
    "model.compile(optimizer='adam',\n",
    "              loss='sparse_categorical_crossentropy',\n",
    "              metrics=['accuracy'])"
   ]
  },
  {
   "cell_type": "code",
   "execution_count": 26,
   "id": "d92ba91c",
   "metadata": {},
   "outputs": [
    {
     "name": "stdout",
     "output_type": "stream",
     "text": [
      "Epoch 1/30\n",
      "20/20 [==============================] - 1s 16ms/step - loss: 0.7600 - accuracy: 0.4854 - val_loss: 0.6805 - val_accuracy: 0.5362\n",
      "Epoch 2/30\n",
      "20/20 [==============================] - 0s 6ms/step - loss: 0.6748 - accuracy: 0.5793 - val_loss: 0.6067 - val_accuracy: 0.6522\n",
      "Epoch 3/30\n",
      "20/20 [==============================] - 0s 4ms/step - loss: 0.6058 - accuracy: 0.6650 - val_loss: 0.5452 - val_accuracy: 0.7681\n",
      "Epoch 4/30\n",
      "20/20 [==============================] - 0s 3ms/step - loss: 0.5480 - accuracy: 0.7362 - val_loss: 0.4956 - val_accuracy: 0.7971\n",
      "Epoch 5/30\n",
      "20/20 [==============================] - 0s 3ms/step - loss: 0.4985 - accuracy: 0.7994 - val_loss: 0.4544 - val_accuracy: 0.8696\n",
      "Epoch 6/30\n",
      "20/20 [==============================] - 0s 3ms/step - loss: 0.4556 - accuracy: 0.8608 - val_loss: 0.4154 - val_accuracy: 0.8841\n",
      "Epoch 7/30\n",
      "20/20 [==============================] - 0s 3ms/step - loss: 0.4174 - accuracy: 0.8803 - val_loss: 0.3798 - val_accuracy: 0.8986\n",
      "Epoch 8/30\n",
      "20/20 [==============================] - 0s 3ms/step - loss: 0.3828 - accuracy: 0.8948 - val_loss: 0.3481 - val_accuracy: 0.9420\n",
      "Epoch 9/30\n",
      "20/20 [==============================] - 0s 3ms/step - loss: 0.3527 - accuracy: 0.9029 - val_loss: 0.3185 - val_accuracy: 0.9565\n",
      "Epoch 10/30\n",
      "20/20 [==============================] - 0s 3ms/step - loss: 0.3243 - accuracy: 0.9142 - val_loss: 0.2921 - val_accuracy: 0.9565\n",
      "Epoch 11/30\n",
      "20/20 [==============================] - 0s 3ms/step - loss: 0.2990 - accuracy: 0.9256 - val_loss: 0.2684 - val_accuracy: 0.9565\n",
      "Epoch 12/30\n",
      "20/20 [==============================] - 0s 3ms/step - loss: 0.2760 - accuracy: 0.9304 - val_loss: 0.2482 - val_accuracy: 0.9565\n",
      "Epoch 13/30\n",
      "20/20 [==============================] - 0s 3ms/step - loss: 0.2556 - accuracy: 0.9369 - val_loss: 0.2291 - val_accuracy: 0.9565\n",
      "Epoch 14/30\n",
      "20/20 [==============================] - 0s 3ms/step - loss: 0.2367 - accuracy: 0.9450 - val_loss: 0.2125 - val_accuracy: 0.9565\n",
      "Epoch 15/30\n",
      "20/20 [==============================] - 0s 3ms/step - loss: 0.2199 - accuracy: 0.9482 - val_loss: 0.1971 - val_accuracy: 0.9565\n",
      "Epoch 16/30\n",
      "20/20 [==============================] - 0s 3ms/step - loss: 0.2041 - accuracy: 0.9531 - val_loss: 0.1827 - val_accuracy: 0.9565\n",
      "Epoch 17/30\n",
      "20/20 [==============================] - 0s 3ms/step - loss: 0.1898 - accuracy: 0.9547 - val_loss: 0.1686 - val_accuracy: 0.9565\n",
      "Epoch 18/30\n",
      "20/20 [==============================] - 0s 3ms/step - loss: 0.1762 - accuracy: 0.9595 - val_loss: 0.1564 - val_accuracy: 0.9855\n",
      "Epoch 19/30\n",
      "20/20 [==============================] - 0s 3ms/step - loss: 0.1637 - accuracy: 0.9644 - val_loss: 0.1455 - val_accuracy: 0.9855\n",
      "Epoch 20/30\n",
      "20/20 [==============================] - 0s 3ms/step - loss: 0.1523 - accuracy: 0.9676 - val_loss: 0.1349 - val_accuracy: 0.9855\n",
      "Epoch 21/30\n",
      "20/20 [==============================] - 0s 3ms/step - loss: 0.1413 - accuracy: 0.9676 - val_loss: 0.1255 - val_accuracy: 0.9855\n",
      "Epoch 22/30\n",
      "20/20 [==============================] - 0s 3ms/step - loss: 0.1315 - accuracy: 0.9693 - val_loss: 0.1165 - val_accuracy: 0.9855\n",
      "Epoch 23/30\n",
      "20/20 [==============================] - 0s 3ms/step - loss: 0.1222 - accuracy: 0.9741 - val_loss: 0.1083 - val_accuracy: 0.9855\n",
      "Epoch 24/30\n",
      "20/20 [==============================] - 0s 3ms/step - loss: 0.1137 - accuracy: 0.9773 - val_loss: 0.1009 - val_accuracy: 0.9855\n",
      "Epoch 25/30\n",
      "20/20 [==============================] - 0s 3ms/step - loss: 0.1059 - accuracy: 0.9806 - val_loss: 0.0936 - val_accuracy: 0.9855\n",
      "Epoch 26/30\n",
      "20/20 [==============================] - 0s 3ms/step - loss: 0.0986 - accuracy: 0.9838 - val_loss: 0.0871 - val_accuracy: 0.9855\n",
      "Epoch 27/30\n",
      "20/20 [==============================] - 0s 3ms/step - loss: 0.0919 - accuracy: 0.9838 - val_loss: 0.0812 - val_accuracy: 0.9855\n",
      "Epoch 28/30\n",
      "20/20 [==============================] - 0s 3ms/step - loss: 0.0858 - accuracy: 0.9838 - val_loss: 0.0756 - val_accuracy: 0.9855\n",
      "Epoch 29/30\n",
      "20/20 [==============================] - 0s 3ms/step - loss: 0.0801 - accuracy: 0.9838 - val_loss: 0.0705 - val_accuracy: 0.9855\n",
      "Epoch 30/30\n",
      "20/20 [==============================] - 0s 3ms/step - loss: 0.0747 - accuracy: 0.9854 - val_loss: 0.0658 - val_accuracy: 0.9855\n"
     ]
    }
   ],
   "source": [
    "# training the Meural Network\n",
    "\n",
    "history = model.fit(X_train_std, Y_train, validation_split=0.1, epochs=30)"
   ]
  },
  {
   "cell_type": "code",
   "execution_count": 27,
   "id": "54864ffd",
   "metadata": {},
   "outputs": [
    {
     "name": "stdout",
     "output_type": "stream",
     "text": [
      "<class 'pandas.core.frame.DataFrame'>\n",
      "RangeIndex: 859 entries, 0 to 858\n",
      "Data columns (total 12 columns):\n",
      " #   Column            Non-Null Count  Dtype  \n",
      "---  ------            --------------  -----  \n",
      " 0   Age               859 non-null    int64  \n",
      " 1   RestingBP         859 non-null    int64  \n",
      " 2   Cholesterol       859 non-null    float64\n",
      " 3   FastingBS         859 non-null    int64  \n",
      " 4   MaxHR             859 non-null    int64  \n",
      " 5   Oldpeak           859 non-null    float64\n",
      " 6   HeartDisease      859 non-null    int64  \n",
      " 7   Sex_n             859 non-null    int32  \n",
      " 8   ChestPainType_n   859 non-null    int32  \n",
      " 9   RestingECG_n      859 non-null    int32  \n",
      " 10  ExerciseAngina_n  859 non-null    int32  \n",
      " 11  ST_Slope_n        859 non-null    int32  \n",
      "dtypes: float64(2), int32(5), int64(5)\n",
      "memory usage: 63.9 KB\n"
     ]
    }
   ],
   "source": [
    "datasetn.info()\n"
   ]
  },
  {
   "cell_type": "markdown",
   "id": "87d2baa4",
   "metadata": {},
   "source": [
    "# Visualizing accuracy and loss"
   ]
  },
  {
   "cell_type": "code",
   "execution_count": 28,
   "id": "1e34473d",
   "metadata": {},
   "outputs": [
    {
     "data": {
      "text/plain": [
       "<matplotlib.legend.Legend at 0x1e394fe71f0>"
      ]
     },
     "execution_count": 28,
     "metadata": {},
     "output_type": "execute_result"
    },
    {
     "data": {
      "image/png": "[encoded data removed]",
      "text/plain": [
       "<Figure size 640x480 with 1 Axes>"
      ]
     },
     "metadata": {},
     "output_type": "display_data"
    }
   ],
   "source": [
    "plt.plot(history.history['accuracy'])\n",
    "plt.plot(history.history['val_accuracy'])\n",
    "\n",
    "plt.title('model accuracy')\n",
    "plt.ylabel('accuracy')\n",
    "plt.xlabel('epoch')\n",
    "\n",
    "plt.legend(['training data', 'validation data'], loc = 'lower right')"
   ]
  },
  {
   "cell_type": "code",
   "execution_count": 29,
   "id": "d3243ac2",
   "metadata": {},
   "outputs": [
    {
     "data": {
      "text/plain": [
       "<matplotlib.legend.Legend at 0x1e397191eb0>"
      ]
     },
     "execution_count": 29,
     "metadata": {},
     "output_type": "execute_result"
    },
    {
     "data": {
      "image/png": "[encoded data removed]",
      "text/plain": [
       "<Figure size 640x480 with 1 Axes>"
      ]
     },
     "metadata": {},
     "output_type": "display_data"
    }
   ],
   "source": [
    "plt.plot(history.history['loss'])\n",
    "plt.plot(history.history['val_loss'])\n",
    "\n",
    "plt.title('model loss')\n",
    "plt.ylabel('loss')\n",
    "plt.xlabel('epoch')\n",
    "\n",
    "plt.legend(['training data', 'validation data'], loc = 'upper right')"
   ]
  },
  {
   "cell_type": "markdown",
   "id": "a5587b44",
   "metadata": {},
   "source": [
    "# Accuracy of the model on test data"
   ]
  },
  {
   "cell_type": "code",
   "execution_count": 30,
   "id": "c5a75ea2",
   "metadata": {},
   "outputs": [
    {
     "name": "stdout",
     "output_type": "stream",
     "text": [
      "6/6 [==============================] - 0s 2ms/step - loss: 0.0755 - accuracy: 0.9884\n",
      "0.9883720874786377\n"
     ]
    }
   ],
   "source": [
    "loss, accuracy = model.evaluate(X_test_std, Y_test)\n",
    "print(accuracy)"
   ]
  },
  {
   "cell_type": "code",
   "execution_count": 31,
   "id": "23bb55c5",
   "metadata": {},
   "outputs": [
    {
     "name": "stdout",
     "output_type": "stream",
     "text": [
      "(172, 12)\n",
      "[ 0.06495872 -0.40745808 -0.36092341 -0.54875893  0.10629394 -0.85056091\n",
      "  0.93377439  0.49453536 -0.85190946 -0.01158874 -0.80958118 -0.6261767 ]\n"
     ]
    }
   ],
   "source": [
    "print(X_test_std.shape)\n",
    "print(X_test_std[0])"
   ]
  },
  {
   "cell_type": "code",
   "execution_count": 32,
   "id": "9a372ad4",
   "metadata": {},
   "outputs": [
    {
     "name": "stdout",
     "output_type": "stream",
     "text": [
      "6/6 [==============================] - 0s 3ms/step\n"
     ]
    }
   ],
   "source": [
    "Y_pred = model.predict(X_test_std)"
   ]
  },
  {
   "cell_type": "code",
   "execution_count": 33,
   "id": "b1fb7e69",
   "metadata": {},
   "outputs": [
    {
     "name": "stdout",
     "output_type": "stream",
     "text": [
      "(172, 2)\n",
      "[0.15525952 0.76306283]\n"
     ]
    }
   ],
   "source": [
    "print(Y_pred.shape)\n",
    "print(Y_pred[0])"
   ]
  },
  {
   "cell_type": "code",
   "execution_count": 34,
   "id": "62c79088",
   "metadata": {},
   "outputs": [
    {
     "name": "stdout",
     "output_type": "stream",
     "text": [
      "[[ 0.06495872 -0.40745808 -0.36092341 ... -0.01158874 -0.80958118\n",
      "  -0.6261767 ]\n",
      " [-1.10105795  0.48610556 -0.75076672 ...  1.58070389  1.23520658\n",
      "   1.0412008 ]\n",
      " [ 1.12497387 -1.30102173 -0.75076672 ... -0.01158874  1.23520658\n",
      "  -2.29355421]\n",
      " ...\n",
      " [ 0.91297084  1.55838193 -0.49864769 ... -0.01158874  1.23520658\n",
      "  -2.29355421]\n",
      " [ 0.06495872 -0.70531263 -0.03956677 ... -0.01158874 -0.80958118\n",
      "   1.0412008 ]\n",
      " [-1.52506401 -0.82445445 -0.29206128 ... -0.01158874 -0.80958118\n",
      "  -0.6261767 ]]\n"
     ]
    }
   ],
   "source": [
    "print(X_test_std)"
   ]
  },
  {
   "cell_type": "code",
   "execution_count": 35,
   "id": "cd889118",
   "metadata": {},
   "outputs": [
    {
     "name": "stdout",
     "output_type": "stream",
     "text": [
      "[[0.15525952 0.76306283]\n",
      " [0.08779035 0.82469213]\n",
      " [0.01946664 0.9018791 ]\n",
      " [0.9536609  0.4341857 ]\n",
      " [0.9249221  0.52232057]\n",
      " [0.7199051  0.28678426]\n",
      " [0.952008   0.48160604]\n",
      " [0.06728949 0.897927  ]\n",
      " [0.47439826 0.87683225]\n",
      " [0.95346177 0.48233804]\n",
      " [0.8871229  0.44240683]\n",
      " [0.9948078  0.5330351 ]\n",
      " [0.48563415 0.2065383 ]\n",
      " [0.9904064  0.5477719 ]\n",
      " [0.84009093 0.28386205]\n",
      " [0.14074035 0.9154258 ]\n",
      " [0.10946797 0.81629854]\n",
      " [0.9529628  0.64877045]\n",
      " [0.62274337 0.2983721 ]\n",
      " [0.20128456 0.11441664]\n",
      " [0.9241496  0.470566  ]\n",
      " [0.1419994  0.7594075 ]\n",
      " [0.3416314  0.7848468 ]\n",
      " [0.9566143  0.35498863]\n",
      " [0.9749728  0.5292249 ]\n",
      " [0.01847637 0.9126389 ]\n",
      " [0.97193456 0.49978963]\n",
      " [0.99223864 0.6002686 ]\n",
      " [0.30759338 0.3642517 ]\n",
      " [0.839827   0.4515426 ]\n",
      " [0.07162477 0.84852064]\n",
      " [0.81680435 0.92142177]\n",
      " [0.6760043  0.34817398]\n",
      " [0.04319084 0.92048466]\n",
      " [0.9820831  0.5046721 ]\n",
      " [0.05301809 0.8070129 ]\n",
      " [0.5412556  0.37154707]\n",
      " [0.9198902  0.46922567]\n",
      " [0.0654356  0.9099355 ]\n",
      " [0.1467131  0.8660818 ]\n",
      " [0.03857354 0.94812006]\n",
      " [0.96471226 0.4714066 ]\n",
      " [0.9861366  0.5105873 ]\n",
      " [0.07212904 0.8743296 ]\n",
      " [0.04353732 0.93772477]\n",
      " [0.9861417  0.5105956 ]\n",
      " [0.04069357 0.85103923]\n",
      " [0.05846674 0.9434354 ]\n",
      " [0.05711874 0.7528996 ]\n",
      " [0.96971357 0.48801476]\n",
      " [0.7122469  0.41451257]\n",
      " [0.68824935 0.5681161 ]\n",
      " [0.9672466  0.49063227]\n",
      " [0.5311756  0.79135066]\n",
      " [0.9844887  0.5042157 ]\n",
      " [0.0990165  0.92802674]\n",
      " [0.8282277  0.3900169 ]\n",
      " [0.97836    0.5002998 ]\n",
      " [0.0623829  0.8917389 ]\n",
      " [0.18772534 0.84803313]\n",
      " [0.08428472 0.94803095]\n",
      " [0.00644692 0.7986166 ]\n",
      " [0.12425442 0.7834415 ]\n",
      " [0.9944637  0.40691444]\n",
      " [0.07174569 0.9050518 ]\n",
      " [0.6183801  0.29364675]\n",
      " [0.85247177 0.9396639 ]\n",
      " [0.33432943 0.9645685 ]\n",
      " [0.9034488  0.46828264]\n",
      " [0.15059356 0.86181456]\n",
      " [0.03487159 0.8750755 ]\n",
      " [0.9675627  0.4964053 ]\n",
      " [0.97645706 0.31747565]\n",
      " [0.9664185  0.3147441 ]\n",
      " [0.14689659 0.82628924]\n",
      " [0.3145934  0.87512213]\n",
      " [0.8907083  0.46147949]\n",
      " [0.9729036  0.49506822]\n",
      " [0.9950063  0.5339207 ]\n",
      " [0.03259365 0.7069516 ]\n",
      " [0.29396746 0.9432529 ]\n",
      " [0.9861771  0.73899096]\n",
      " [0.19243409 0.91722643]\n",
      " [0.39416656 0.9241473 ]\n",
      " [0.85298973 0.823098  ]\n",
      " [0.9752104  0.49714184]\n",
      " [0.73573846 0.10218294]\n",
      " [0.9587587  0.50096303]\n",
      " [0.9047173  0.28299725]\n",
      " [0.06293791 0.83577955]\n",
      " [0.02127572 0.9268634 ]\n",
      " [0.42038184 0.95719177]\n",
      " [0.22083336 0.9389138 ]\n",
      " [0.97675014 0.43932903]\n",
      " [0.18205212 0.8770226 ]\n",
      " [0.10869331 0.9465111 ]\n",
      " [0.15563779 0.9115881 ]\n",
      " [0.02862727 0.9139643 ]\n",
      " [0.32850304 0.9577927 ]\n",
      " [0.3995057  0.8604176 ]\n",
      " [0.9700012  0.63337326]\n",
      " [0.09590197 0.7986648 ]\n",
      " [0.12420888 0.72580737]\n",
      " [0.27823532 0.96550465]\n",
      " [0.9399862  0.65654784]\n",
      " [0.07223292 0.87018484]\n",
      " [0.64354134 0.29012832]\n",
      " [0.9343828  0.38350666]\n",
      " [0.4353741  0.7970669 ]\n",
      " [0.2063279  0.9191767 ]\n",
      " [0.5092212  0.74298924]\n",
      " [0.0835293  0.88471395]\n",
      " [0.48998865 0.8047615 ]\n",
      " [0.02070134 0.844118  ]\n",
      " [0.9757008  0.50677675]\n",
      " [0.99090886 0.3462718 ]\n",
      " [0.10146429 0.96914405]\n",
      " [0.97808605 0.50754327]\n",
      " [0.12384075 0.84176165]\n",
      " [0.04433687 0.9025922 ]\n",
      " [0.30913547 0.92303354]\n",
      " [0.93280154 0.42265862]\n",
      " [0.97576743 0.49767074]\n",
      " [0.7484598  0.97667223]\n",
      " [0.17135252 0.914375  ]\n",
      " [0.05817951 0.86863077]\n",
      " [0.02319896 0.73062605]\n",
      " [0.9787682  0.50074166]\n",
      " [0.9860544  0.46979782]\n",
      " [0.17421278 0.81176484]\n",
      " [0.25345507 0.93844783]\n",
      " [0.20662433 0.9366398 ]\n",
      " [0.9594478  0.51127464]\n",
      " [0.7457967  0.83129996]\n",
      " [0.02543149 0.68887496]\n",
      " [0.98543817 0.5094557 ]\n",
      " [0.85416716 0.45403388]\n",
      " [0.9918813  0.5455512 ]\n",
      " [0.05556162 0.6654305 ]\n",
      " [0.5696555  0.8283531 ]\n",
      " [0.01878664 0.86209255]\n",
      " [0.13667473 0.72359884]\n",
      " [0.65044165 0.7756104 ]\n",
      " [0.99564606 0.53703207]\n",
      " [0.97448075 0.23882249]\n",
      " [0.94229156 0.47719502]\n",
      " [0.88169295 0.9197331 ]\n",
      " [0.04852335 0.9202445 ]\n",
      " [0.18402836 0.8953715 ]\n",
      " [0.9616283  0.48690784]\n",
      " [0.66104144 0.33781788]\n",
      " [0.18916999 0.95063967]\n",
      " [0.04025303 0.75910956]\n",
      " [0.06377628 0.95594335]\n",
      " [0.19478534 0.8714071 ]\n",
      " [0.9932591  0.5270952 ]\n",
      " [0.98323596 0.5323209 ]\n",
      " [0.03880291 0.87758857]\n",
      " [0.893823   0.2766843 ]\n",
      " [0.48664784 0.9512151 ]\n",
      " [0.14902164 0.8823405 ]\n",
      " [0.04785939 0.94527537]\n",
      " [0.08479294 0.8409048 ]\n",
      " [0.5782444  0.62224525]\n",
      " [0.16289863 0.9356516 ]\n",
      " [0.1797779  0.8856102 ]\n",
      " [0.25648904 0.92151916]\n",
      " [0.2154676  0.92347515]\n",
      " [0.94075376 0.36434612]\n",
      " [0.04096263 0.9531866 ]\n",
      " [0.97543097 0.39281946]\n",
      " [0.1122362  0.7865411 ]]\n"
     ]
    }
   ],
   "source": [
    "print(Y_pred)"
   ]
  },
  {
   "cell_type": "markdown",
   "id": "05e5770d",
   "metadata": {},
   "source": [
    "# model.predict() gives the prediction probability of each class for that data point"
   ]
  },
  {
   "cell_type": "code",
   "execution_count": 36,
   "id": "9dd91d8a",
   "metadata": {},
   "outputs": [
    {
     "name": "stdout",
     "output_type": "stream",
     "text": [
      "[0.25, 0.56]\n",
      "1\n"
     ]
    }
   ],
   "source": [
    "#  argmax function\n",
    "\n",
    "my_list = [0.25, 0.56]\n",
    "\n",
    "index_of_max_value = nm.argmax(my_list)\n",
    "print(my_list)\n",
    "print(index_of_max_value)"
   ]
  },
  {
   "cell_type": "code",
   "execution_count": 37,
   "id": "de1374be",
   "metadata": {},
   "outputs": [
    {
     "name": "stdout",
     "output_type": "stream",
     "text": [
      "[1, 1, 1, 0, 0, 0, 0, 1, 1, 0, 0, 0, 0, 0, 0, 1, 1, 0, 0, 0, 0, 1, 1, 0, 0, 1, 0, 0, 1, 0, 1, 1, 0, 1, 0, 1, 0, 0, 1, 1, 1, 0, 0, 1, 1, 0, 1, 1, 1, 0, 0, 0, 0, 1, 0, 1, 0, 0, 1, 1, 1, 1, 1, 0, 1, 0, 1, 1, 0, 1, 1, 0, 0, 0, 1, 1, 0, 0, 0, 1, 1, 0, 1, 1, 0, 0, 0, 0, 0, 1, 1, 1, 1, 0, 1, 1, 1, 1, 1, 1, 0, 1, 1, 1, 0, 1, 0, 0, 1, 1, 1, 1, 1, 1, 0, 0, 1, 0, 1, 1, 1, 0, 0, 1, 1, 1, 1, 0, 0, 1, 1, 1, 0, 1, 1, 0, 0, 0, 1, 1, 1, 1, 1, 0, 0, 0, 1, 1, 1, 0, 0, 1, 1, 1, 1, 0, 0, 1, 0, 1, 1, 1, 1, 1, 1, 1, 1, 1, 0, 1, 0, 1]\n"
     ]
    }
   ],
   "source": [
    "# converting the prediction probability to class labels\n",
    "\n",
    "Y_pred_labels = [nm.argmax(i) for i in Y_pred]\n",
    "print(Y_pred_labels)"
   ]
  },
  {
   "cell_type": "code",
   "execution_count": 42,
   "id": "e2ca4a52",
   "metadata": {},
   "outputs": [
    {
     "name": "stdout",
     "output_type": "stream",
     "text": [
      "1/1 [==============================] - 0s 25ms/step\n",
      "[[0.03954261 0.9663837 ]]\n",
      "[1]\n",
      "patient has heart disease\n"
     ]
    },
    {
     "name": "stderr",
     "output_type": "stream",
     "text": [
      "C:\\Users\\sayuj\\anaconda3\\lib\\site-packages\\sklearn\\base.py:450: UserWarning: X does not have valid feature names, but StandardScaler was fitted with feature names\n",
      "  warnings.warn(\n"
     ]
    }
   ],
   "source": [
    "input_data=(1,1,1,1,1,1,1,1,1,1,1,1)\n",
    "\n",
    "# change the input_data to a numpy array\n",
    "input_data_as_numpy_array = nm.asarray(input_data)\n",
    "\n",
    "# reshape the numpy array as we are predicting for one data point\n",
    "input_data_reshaped = input_data_as_numpy_array.reshape(1,-1)\n",
    "\n",
    "# standardizing the input data\n",
    "input_data_std = scaler.transform(input_data_reshaped)\n",
    "\n",
    "prediction = model.predict(input_data_std)\n",
    "print(prediction)\n",
    "\n",
    "prediction_label = [nm.argmax(prediction)]\n",
    "print(prediction_label)\n",
    "\n",
    "if(prediction_label[0] == 0):\n",
    "  print('patient does not have heart disease')\n",
    "\n",
    "else:\n",
    "  print('patient has heart disease')"
   ]
  },
  {
   "cell_type": "code",
   "execution_count": 39,
   "id": "8707d7ef",
   "metadata": {},
   "outputs": [
    {
     "data": {
      "text/html": [
       "<div>\n",
       "<style scoped>\n",
       "    .dataframe tbody tr th:only-of-type {\n",
       "        vertical-align: middle;\n",
       "    }\n",
       "\n",
       "    .dataframe tbody tr th {\n",
       "        vertical-align: top;\n",
       "    }\n",
       "\n",
       "    .dataframe thead th {\n",
       "        text-align: right;\n",
       "    }\n",
       "</style>\n",
       "<table border=\"1\" class=\"dataframe\">\n",
       "  <thead>\n",
       "    <tr style=\"text-align: right;\">\n",
       "      <th></th>\n",
       "      <th>Age</th>\n",
       "      <th>RestingBP</th>\n",
       "      <th>Cholesterol</th>\n",
       "      <th>FastingBS</th>\n",
       "      <th>MaxHR</th>\n",
       "      <th>Oldpeak</th>\n",
       "      <th>HeartDisease</th>\n",
       "      <th>Sex_n</th>\n",
       "      <th>ChestPainType_n</th>\n",
       "      <th>RestingECG_n</th>\n",
       "      <th>ExerciseAngina_n</th>\n",
       "      <th>ST_Slope_n</th>\n",
       "      <th>label</th>\n",
       "    </tr>\n",
       "  </thead>\n",
       "  <tbody>\n",
       "    <tr>\n",
       "      <th>0</th>\n",
       "      <td>40</td>\n",
       "      <td>140</td>\n",
       "      <td>289.0</td>\n",
       "      <td>0</td>\n",
       "      <td>172</td>\n",
       "      <td>0.0</td>\n",
       "      <td>0</td>\n",
       "      <td>1</td>\n",
       "      <td>1</td>\n",
       "      <td>1</td>\n",
       "      <td>0</td>\n",
       "      <td>2</td>\n",
       "      <td>0</td>\n",
       "    </tr>\n",
       "    <tr>\n",
       "      <th>1</th>\n",
       "      <td>49</td>\n",
       "      <td>160</td>\n",
       "      <td>180.0</td>\n",
       "      <td>0</td>\n",
       "      <td>156</td>\n",
       "      <td>1.0</td>\n",
       "      <td>1</td>\n",
       "      <td>0</td>\n",
       "      <td>2</td>\n",
       "      <td>1</td>\n",
       "      <td>0</td>\n",
       "      <td>1</td>\n",
       "      <td>1</td>\n",
       "    </tr>\n",
       "    <tr>\n",
       "      <th>2</th>\n",
       "      <td>37</td>\n",
       "      <td>130</td>\n",
       "      <td>283.0</td>\n",
       "      <td>0</td>\n",
       "      <td>98</td>\n",
       "      <td>0.0</td>\n",
       "      <td>0</td>\n",
       "      <td>1</td>\n",
       "      <td>1</td>\n",
       "      <td>2</td>\n",
       "      <td>0</td>\n",
       "      <td>2</td>\n",
       "      <td>0</td>\n",
       "    </tr>\n",
       "    <tr>\n",
       "      <th>3</th>\n",
       "      <td>48</td>\n",
       "      <td>138</td>\n",
       "      <td>214.0</td>\n",
       "      <td>0</td>\n",
       "      <td>108</td>\n",
       "      <td>1.5</td>\n",
       "      <td>1</td>\n",
       "      <td>0</td>\n",
       "      <td>0</td>\n",
       "      <td>1</td>\n",
       "      <td>1</td>\n",
       "      <td>1</td>\n",
       "      <td>1</td>\n",
       "    </tr>\n",
       "    <tr>\n",
       "      <th>4</th>\n",
       "      <td>54</td>\n",
       "      <td>150</td>\n",
       "      <td>195.0</td>\n",
       "      <td>0</td>\n",
       "      <td>122</td>\n",
       "      <td>0.0</td>\n",
       "      <td>0</td>\n",
       "      <td>1</td>\n",
       "      <td>2</td>\n",
       "      <td>1</td>\n",
       "      <td>0</td>\n",
       "      <td>2</td>\n",
       "      <td>0</td>\n",
       "    </tr>\n",
       "  </tbody>\n",
       "</table>\n",
       "</div>"
      ],
      "text/plain": [
       "   Age  RestingBP  Cholesterol  FastingBS  MaxHR  Oldpeak  HeartDisease  \\\n",
       "0   40        140        289.0          0    172      0.0             0   \n",
       "1   49        160        180.0          0    156      1.0             1   \n",
       "2   37        130        283.0          0     98      0.0             0   \n",
       "3   48        138        214.0          0    108      1.5             1   \n",
       "4   54        150        195.0          0    122      0.0             0   \n",
       "\n",
       "   Sex_n  ChestPainType_n  RestingECG_n  ExerciseAngina_n  ST_Slope_n  label  \n",
       "0      1                1             1                 0           2      0  \n",
       "1      0                2             1                 0           1      1  \n",
       "2      1                1             2                 0           2      0  \n",
       "3      0                0             1                 1           1      1  \n",
       "4      1                2             1                 0           2      0  "
      ]
     },
     "execution_count": 39,
     "metadata": {},
     "output_type": "execute_result"
    }
   ],
   "source": [
    "dataframe.head()"
   ]
  },
  {
   "cell_type": "code",
   "execution_count": 40,
   "id": "bef9bdee",
   "metadata": {},
   "outputs": [],
   "source": [
    "dataframe.to_csv(r\"C:\\FINAL YEAR PROJECT\\dataset\\dataframe\\dataframe1.csv\")\n"
   ]
  },
  {
   "cell_type": "code",
   "execution_count": 41,
   "id": "3a993fa0",
   "metadata": {},
   "outputs": [],
   "source": [
    "redataframe = dataframe[['Age','RestingBP','Cholesterol','FastingBS','MaxHR','Oldpeak','Sex_n','ChestPainType_n','RestingECG_n','ExerciseAngina_n','ST_Slope_n','label','HeartDisease']]"
   ]
  },
  {
   "cell_type": "code",
   "execution_count": 42,
   "id": "7a2f4235",
   "metadata": {},
   "outputs": [],
   "source": [
    "redataframe.to_csv(r\"C:\\FINAL YEAR PROJECT\\dataset\\dataframe\\dataframe2.csv\")"
   ]
  },
  {
   "cell_type": "code",
   "execution_count": null,
   "id": "0fd3411b",
   "metadata": {},
   "outputs": [],
   "source": []
  }
 ],
 "metadata": {
  "kernelspec": {
   "display_name": "Python 3 (ipykernel)",
   "language": "python",
   "name": "python3"
  },
  "language_info": {
   "codemirror_mode": {
    "name": "ipython",
    "version": 3
   },
   "file_extension": ".py",
   "mimetype": "text/x-python",
   "name": "python",
   "nbconvert_exporter": "python",
   "pygments_lexer": "ipython3",
   "version": "3.9.13"
  }
 },
 "nbformat": 4,
 "nbformat_minor": 5
}
